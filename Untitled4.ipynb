{
 "cells": [
  {
   "cell_type": "code",
   "execution_count": 1,
   "id": "09205ea9-77fd-4437-81e6-bb3be28165c6",
   "metadata": {},
   "outputs": [],
   "source": [
    "a=['a']"
   ]
  },
  {
   "cell_type": "code",
   "execution_count": 2,
   "id": "b5a2d770-b676-4315-8668-e27f0b42b3db",
   "metadata": {},
   "outputs": [
    {
     "name": "stdout",
     "output_type": "stream",
     "text": [
      "['a']\n"
     ]
    }
   ],
   "source": [
    "print(a)"
   ]
  },
  {
   "cell_type": "code",
   "execution_count": null,
   "id": "a101b500-c7d4-4e78-b6c9-3f525514868f",
   "metadata": {},
   "outputs": [],
   "source": [
    "alphabet = input(\"enter the alphabet\")\n",
    "if alphabet.lower in ['a','e','i','o','u']:\n",
    "    \n",
    "    print(\"alphbet,\"vowel\")\n",
    "else:\n",
    "    print( alphabet,\"consonant\")\n"
   ]
  },
  {
   "cell_type": "code",
   "execution_count": null,
   "id": "da8f0bd7-34bc-4fbf-862f-2e8eb378771f",
   "metadata": {},
   "outputs": [],
   "source": []
  },
  {
   "cell_type": "code",
   "execution_count": null,
   "id": "6c96b2b2-a562-43be-a28d-30d7f857e5af",
   "metadata": {},
   "outputs": [],
   "source": []
  }
 ],
 "metadata": {
  "kernelspec": {
   "display_name": "Python 3 (ipykernel)",
   "language": "python",
   "name": "python3"
  },
  "language_info": {
   "codemirror_mode": {
    "name": "ipython",
    "version": 3
   },
   "file_extension": ".py",
   "mimetype": "text/x-python",
   "name": "python",
   "nbconvert_exporter": "python",
   "pygments_lexer": "ipython3",
   "version": "3.10.8"
  }
 },
 "nbformat": 4,
 "nbformat_minor": 5
}
